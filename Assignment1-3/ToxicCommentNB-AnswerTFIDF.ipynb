{
 "cells": [
  {
   "cell_type": "code",
   "execution_count": 1,
   "metadata": {},
   "outputs": [],
   "source": [
    "import pandas as pd, numpy as np\n",
    "from sklearn.feature_extraction.text import CountVectorizer, TfidfVectorizer\n",
    "from sklearn.naive_bayes import MultinomialNB\n",
    "from sklearn.pipeline import Pipeline\n",
    "from sklearn.metrics import roc_auc_score"
   ]
  },
  {
   "cell_type": "code",
   "execution_count": 3,
   "metadata": {},
   "outputs": [],
   "source": [
    "train = pd.read_csv('./data/train.csv')\n",
    "test = pd.read_csv('./data/test.csv')\n",
    "subm = pd.read_csv('./data/sample_submission.csv')\n",
    "\n",
    "trainingdata = train.comment_text\n",
    "labels = ['toxic', 'severe_toxic', 'obscene', 'threat', 'insult', 'identity_hate']\n",
    "\n",
    "test_labels = pd.read_csv('./Assignment1-3/data/test_labels.csv')\n",
    "test_labels_filter = test_labels[test_labels['toxic']>-1]\n",
    "test_filter = test[test.id.isin(test_labels_filter.id)]"
   ]
  },
  {
   "cell_type": "code",
   "execution_count": 4,
   "metadata": {},
   "outputs": [
    {
     "name": "stdout",
     "output_type": "stream",
     "text": [
      "fit toxic\n",
      "toxic ROC AUC: 0.8736072008934528\n",
      "fit severe_toxic\n",
      "severe_toxic ROC AUC: 0.8034275042913465\n",
      "fit obscene\n",
      "obscene ROC AUC: 0.8605632134849668\n",
      "fit threat\n",
      "threat ROC AUC: 0.7720454361505827\n",
      "fit insult\n",
      "insult ROC AUC: 0.8443708296031005\n",
      "fit identity_hate\n",
      "identity_hate ROC AUC: 0.810686418268932\n",
      "mean column-wise ROC AUC: 0.8274501004487301\n"
     ]
    }
   ],
   "source": [
    "vect = TfidfVectorizer()\n",
    "X_train = vect.fit_transform(trainingdata)\n",
    "rocs = []\n",
    "for i, j in enumerate(labels):\n",
    "    print('fit', j)\n",
    "    text_clf = Pipeline([('vect', vect), ('clf', MultinomialNB())])\n",
    "    text_clf = text_clf.fit(trainingdata, train[j])\n",
    "    pred_filter = text_clf.predict_proba(test_filter.comment_text)[:,1]\n",
    "    roc = roc_auc_score(test_labels_filter[j], pred_filter)\n",
    "    print(j, 'ROC AUC:', roc)\n",
    "    rocs.append(roc)\n",
    "print('mean column-wise ROC AUC:', np.mean(rocs))"
   ]
  },
  {
   "cell_type": "code",
   "execution_count": 6,
   "metadata": {},
   "outputs": [],
   "source": [
    "def toxic_comment (vect):\n",
    "    X_train = vect.fit_transform(trainingdata)\n",
    "    rocs = []\n",
    "    for i, j in enumerate(labels):\n",
    "        print('fit', j)\n",
    "        text_clf = Pipeline([('vect', vect), ('clf', MultinomialNB())])\n",
    "        text_clf = text_clf.fit(trainingdata, train[j])\n",
    "        pred_filter = text_clf.predict_proba(test_filter.comment_text)[:,1]\n",
    "        roc = roc_auc_score(test_labels_filter[j], pred_filter)\n",
    "        print(j, 'ROC AUC:', roc)\n",
    "        rocs.append(roc)\n",
    "    print('mean column-wise ROC AUC:', np.mean(rocs))"
   ]
  },
  {
   "cell_type": "code",
   "execution_count": 7,
   "metadata": {},
   "outputs": [
    {
     "name": "stdout",
     "output_type": "stream",
     "text": [
      "fit toxic\n",
      "toxic ROC AUC: 0.9315681161334363\n",
      "fit severe_toxic\n",
      "severe_toxic ROC AUC: 0.9524723394326645\n",
      "fit obscene\n",
      "obscene ROC AUC: 0.94440573219987\n",
      "fit threat\n",
      "threat ROC AUC: 0.9104192789552188\n",
      "fit insult\n",
      "insult ROC AUC: 0.9385631615070469\n",
      "fit identity_hate\n",
      "identity_hate ROC AUC: 0.92462126869714\n",
      "mean column-wise ROC AUC: 0.9336749828208961\n"
     ]
    }
   ],
   "source": [
    "toxic_comment(TfidfVectorizer(min_df=0.00009, max_features=20000, ngram_range=(1,3)))"
   ]
  },
  {
   "cell_type": "markdown",
   "metadata": {},
   "source": [
    "### TfidfVectorizer参数含义"
   ]
  },
  {
   "cell_type": "markdown",
   "metadata": {},
   "source": [
    "min_df - 最小文档频率，去掉出现次数很少、没有统计意义的词"
   ]
  },
  {
   "cell_type": "markdown",
   "metadata": {},
   "source": [
    "max_features - 维数最大值，即最多取多少个词作为特征"
   ]
  },
  {
   "cell_type": "markdown",
   "metadata": {},
   "source": [
    "ngram_range - 几个词连起来"
   ]
  },
  {
   "cell_type": "markdown",
   "metadata": {},
   "source": [
    "\"windows xp crush\"\n",
    "\n",
    "ngram_range=(1,2):\n",
    "    windows\n",
    "    xp\n",
    "    crush\n",
    "    windows xp\n",
    "    xp crush\n",
    "    \n",
    "ngram_range=(1,3):\n",
    "    windows\n",
    "    xp\n",
    "    crush\n",
    "    windows xp\n",
    "    xp crush\n",
    "    windows xp crush"
   ]
  }
 ],
 "metadata": {
  "kernelspec": {
   "display_name": "Python 3",
   "language": "python",
   "name": "python3"
  },
  "language_info": {
   "codemirror_mode": {
    "name": "ipython",
    "version": 3
   },
   "file_extension": ".py",
   "mimetype": "text/x-python",
   "name": "python",
   "nbconvert_exporter": "python",
   "pygments_lexer": "ipython3",
   "version": "3.6.4"
  }
 },
 "nbformat": 4,
 "nbformat_minor": 2
}

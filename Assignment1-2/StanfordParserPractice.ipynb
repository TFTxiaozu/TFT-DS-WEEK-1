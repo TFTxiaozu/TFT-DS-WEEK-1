{
 "cells": [
  {
   "cell_type": "markdown",
   "metadata": {},
   "source": [
    "### Test Dependency Parsing by StanfordParser"
   ]
  },
  {
   "cell_type": "markdown",
   "metadata": {},
   "source": [
    "Step1. Install Java 1.8 following \"Install_Java1.8_Mac_Win.pdf\""
   ]
  },
  {
   "cell_type": "markdown",
   "metadata": {},
   "source": [
    "Step2. Download StanfordParser package and model. Go to \"https://nlp.stanford.edu/software/lex-parser.shtml\", find \"Download\", click \"Download Stanford Parser version 3.9.1\"(https://nlp.stanford.edu/software/stanford-parser-full-2018-02-27.zip) to download the package. Uzip \"stanford-parser-full-2018-02-27.zip\". The \"stanford-parser.jar\" is the parser, and \"stanford-parser-3.9.1-models.jar\" is the model."
   ]
  },
  {
   "cell_type": "markdown",
   "metadata": {},
   "source": [
    "Step3. Configure the STANFORD_PARSER environment variable using the \"stanford-parser.jar\" path in your computer, and configure the STANFORD_MODELS environment variable using the model path in your computer."
   ]
  },
  {
   "cell_type": "code",
   "execution_count": 2,
   "metadata": {},
   "outputs": [],
   "source": [
    "import nltk\n",
    "import os\n",
    "os.environ['STANFORD_PARSER'] = '/Users/lynn/Downloads/stanford-parser-full-2018-02-27/stanford-parser.jar'\n",
    "os.environ['STANFORD_MODELS'] = '/Users/lynn/Downloads/stanford-parser-full-2018-02-27/stanford-parser-3.9.1-models.jar'"
   ]
  },
  {
   "cell_type": "markdown",
   "metadata": {},
   "source": [
    "Step4. Run following commands."
   ]
  },
  {
   "cell_type": "code",
   "execution_count": 3,
   "metadata": {},
   "outputs": [],
   "source": [
    "from nltk.parse import stanford"
   ]
  },
  {
   "cell_type": "code",
   "execution_count": 4,
   "metadata": {},
   "outputs": [],
   "source": [
    "parser = nltk.parse.stanford.StanfordParser(model_path=\"edu/stanford/nlp/models/lexparser/englishPCFG.ser.gz\")"
   ]
  },
  {
   "cell_type": "code",
   "execution_count": 5,
   "metadata": {},
   "outputs": [],
   "source": [
    "text = \"She sells seashells on the seashore.\""
   ]
  },
  {
   "cell_type": "code",
   "execution_count": 6,
   "metadata": {},
   "outputs": [],
   "source": [
    "sentences = parser.raw_parse(text)"
   ]
  },
  {
   "cell_type": "code",
   "execution_count": 7,
   "metadata": {},
   "outputs": [],
   "source": [
    "for line in sentences:\n",
    "    for sentence in line:\n",
    "        sentence.draw()"
   ]
  },
  {
   "cell_type": "code",
   "execution_count": null,
   "metadata": {},
   "outputs": [],
   "source": []
  }
 ],
 "metadata": {
  "kernelspec": {
   "display_name": "Python 3",
   "language": "python",
   "name": "python3"
  },
  "language_info": {
   "codemirror_mode": {
    "name": "ipython",
    "version": 3
   },
   "file_extension": ".py",
   "mimetype": "text/x-python",
   "name": "python",
   "nbconvert_exporter": "python",
   "pygments_lexer": "ipython3",
   "version": "3.6.4"
  }
 },
 "nbformat": 4,
 "nbformat_minor": 2
}
